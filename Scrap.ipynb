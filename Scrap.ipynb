{
 "cells": [
  {
   "cell_type": "code",
   "execution_count": 26,
   "metadata": {},
   "outputs": [],
   "source": [
    "import pandas as pd\n",
    "import numpy as np\n",
    "from tweepy.streaming import StreamListener\n",
    "from tweepy import OAuthHandler\n",
    "from tweepy import API\n",
    "from tweepy import Stream"
   ]
  },
  {
   "cell_type": "code",
   "execution_count": 29,
   "metadata": {},
   "outputs": [],
   "source": [
    "# Your credentials go here\n",
    "consumer_key = \"BUL5y8WJT6zRWzvJOdvhfmxVq\"\n",
    "consumer_secret = \"XXPNj6eQbp3yJJvf5Xpn15nesjFKCpCgX7sCtWiNXXYG6f5MFo\"\n",
    "access_token = \"723018819111809024-ZAFiE8xh8rZOgHt5JVQ9JMd7cq7sUvp\"\n",
    "access_token_secret = \"GF4KlcToHvmJq0CVKoXdyK8mYWqGdfVQsO7YiTkdgRsIr\"\n",
    "\n",
    "auth = OAuthHandler(consumer_key, consumer_secret)\n",
    "auth.set_access_token(access_token, access_token_secret)\n",
    "api = API(auth)"
   ]
  },
  {
   "cell_type": "code",
   "execution_count": 66,
   "metadata": {},
   "outputs": [],
   "source": [
    "def from_creator(status):\n",
    "    if hasattr(status, 'retweeted_status'):\n",
    "        return False\n",
    "    elif status.in_reply_to_status_id != None:\n",
    "        return False\n",
    "    elif status.in_reply_to_screen_name != None:\n",
    "        return False\n",
    "    elif status.in_reply_to_user_id != None:\n",
    "        return False\n",
    "    else:\n",
    "        return True"
   ]
  },
  {
   "cell_type": "code",
   "execution_count": 76,
   "metadata": {},
   "outputs": [],
   "source": [
    "class StreamListener(StreamListener):\n",
    "    def on_status(self, status):\n",
    "        if from_creator(status):\n",
    "            try:\n",
    "                # Prints out the tweet\n",
    "                #print(status.user.screen_name)\n",
    "                print(status.user.name)\n",
    "                print(status.text)    \n",
    "                print('------------------------------')\n",
    "                tweet = status.text+\" via @\"+status.user.screen_name\n",
    "                print(tweet)\n",
    "                api.update_status(tweet)\n",
    "                return True\n",
    "            except BaseException as e:\n",
    "                print(\"Error on_data %s\" % str(e))\n",
    "            return True\n",
    "        return True\n",
    "     \n",
    "    def on_error(self, status_code):\n",
    "            if status_code == 420:\n",
    "                return False"
   ]
  },
  {
   "cell_type": "code",
   "execution_count": 77,
   "metadata": {},
   "outputs": [],
   "source": [
    "#'723018819111809024','462495637','26809005','343627165',"
   ]
  },
  {
   "cell_type": "code",
   "execution_count": null,
   "metadata": {},
   "outputs": [
    {
     "name": "stdout",
     "output_type": "stream",
     "text": [
      "Goal\n",
      "Arsenal beat Liverpool 5-4 on penalties!\n",
      "\n",
      "Liverpool are knocked out of the Carabao Cup!\n",
      "\n",
      "#LIVARS https://t.co/EK7CQ5R3lu\n",
      "------------------------------\n",
      "Arsenal beat Liverpool 5-4 on penalties!\n",
      "\n",
      "Liverpool are knocked out of the Carabao Cup!\n",
      "\n",
      "#LIVARS https://t.co/EK7CQ5R3lu via @goal\n",
      "Carabao Cup\n",
      ".@Arsenal avenge their defeat last year at Anfield!\n",
      "\n",
      "They’re through to the Quarter-Finals, beating @LFC 5-4 on pen… https://t.co/rPV3wH3Ntj\n",
      "------------------------------\n",
      ".@Arsenal avenge their defeat last year at Anfield!\n",
      "\n",
      "They’re through to the Quarter-Finals, beating @LFC 5-4 on pen… https://t.co/rPV3wH3Ntj via @Carabao_Cup\n",
      "Goal\n",
      "Leno saved two spot kicks in the penalty shootout 💪\n",
      "\n",
      "Arsenal's hero 🧤\n",
      "------------------------------\n",
      "Leno saved two spot kicks in the penalty shootout 💪\n",
      "\n",
      "Arsenal's hero 🧤 via @goal\n",
      "Arsenal\n",
      "Through to the quarter-final stage! ✅\n",
      "\n",
      "🏆 #CarabaoCup\n",
      "------------------------------\n",
      "Through to the quarter-final stage! ✅\n",
      "\n",
      "🏆 #CarabaoCup via @Arsenal\n",
      "Arsenal\n",
      "Ready for our post-match show? 😅\n",
      "\n",
      "📺 Join @NickBrightDJ and @AdrianJClarke as they reflect on tonight's #CarabaoCup… https://t.co/sQHEK3N0J2\n",
      "------------------------------\n",
      "Ready for our post-match show? 😅\n",
      "\n",
      "📺 Join @NickBrightDJ and @AdrianJClarke as they reflect on tonight's #CarabaoCup… https://t.co/sQHEK3N0J2 via @Arsenal\n",
      "Carabao Cup\n",
      "The spot kick that sends @Arsenal in to the Quarter-Finals!\n",
      "\n",
      "#EFL | #CarabaoCup https://t.co/IlJcDPOBCe\n",
      "------------------------------\n",
      "The spot kick that sends @Arsenal in to the Quarter-Finals!\n",
      "\n",
      "#EFL | #CarabaoCup https://t.co/IlJcDPOBCe via @Carabao_Cup\n",
      "Arsenal\n",
      "Never in doubt...! 😅\n",
      "\n",
      "Good work, @JoeWillock ❤️\n",
      "\n",
      "🏆 #CarabaoCup\n",
      "------------------------------\n",
      "Never in doubt...! 😅\n",
      "\n",
      "Good work, @JoeWillock ❤️\n",
      "\n",
      "🏆 #CarabaoCup via @Arsenal\n",
      "Goal\n",
      "10-man Barcelona go 2-0 up against Celta Vigo after a Lucas Olaza own goal ⚽️\n",
      "\n",
      "Magic from Messi in the build-up 😍 https://t.co/oqhMXSvKBf\n",
      "------------------------------\n",
      "10-man Barcelona go 2-0 up against Celta Vigo after a Lucas Olaza own goal ⚽️\n",
      "\n",
      "Magic from Messi in the build-up 😍 https://t.co/oqhMXSvKBf via @goal\n",
      "Goal\n",
      "FT: Tottenham 7-2 Maccabi Haifa\n",
      "\n",
      "Dele Alli comes off the bench to score a 90th minute penalty as Tottenham qualify… https://t.co/3ftQUmyRaU\n",
      "------------------------------\n",
      "FT: Tottenham 7-2 Maccabi Haifa\n",
      "\n",
      "Dele Alli comes off the bench to score a 90th minute penalty as Tottenham qualify… https://t.co/3ftQUmyRaU via @goal\n",
      "Arsenal\n",
      "💪 That 𝗪𝗜𝗡𝗡𝗜𝗡𝗚 feeling! \n",
      "\n",
      "❤️ @JoeWillock \n",
      "\n",
      "🏆 #CarabaoCup https://t.co/iPllNgasQP\n",
      "------------------------------\n",
      "💪 That 𝗪𝗜𝗡𝗡𝗜𝗡𝗚 feeling! \n",
      "\n",
      "❤️ @JoeWillock \n",
      "\n",
      "🏆 #CarabaoCup https://t.co/iPllNgasQP via @Arsenal\n"
     ]
    }
   ],
   "source": [
    "stream_listener = StreamListener()\n",
    "stream = Stream(auth=api.auth, listener=stream_listener)\n",
    "#stream.filter(track=[\"Arsenal\"])\n",
    "stream.filter(follow=['34613288','462495637','26809005','343627165'])"
   ]
  },
  {
   "cell_type": "code",
   "execution_count": null,
   "metadata": {},
   "outputs": [],
   "source": [
    "\n"
   ]
  }
 ],
 "metadata": {
  "kernelspec": {
   "display_name": "Python 3",
   "language": "python",
   "name": "python3"
  },
  "language_info": {
   "codemirror_mode": {
    "name": "ipython",
    "version": 3
   },
   "file_extension": ".py",
   "mimetype": "text/x-python",
   "name": "python",
   "nbconvert_exporter": "python",
   "pygments_lexer": "ipython3",
   "version": "3.7.4"
  }
 },
 "nbformat": 4,
 "nbformat_minor": 2
}
